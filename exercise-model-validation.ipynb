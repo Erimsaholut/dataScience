{
 "cells": [
  {
   "cell_type": "markdown",
   "id": "4be58220",
   "metadata": {
    "papermill": {
     "duration": 0.004452,
     "end_time": "2024-12-09T15:33:03.981039",
     "exception": false,
     "start_time": "2024-12-09T15:33:03.976587",
     "status": "completed"
    },
    "tags": []
   },
   "source": [
    "**This notebook is an exercise in the [Introduction to Machine Learning](https://www.kaggle.com/learn/intro-to-machine-learning) course.  You can reference the tutorial at [this link](https://www.kaggle.com/dansbecker/model-validation).**\n",
    "\n",
    "---\n"
   ]
  },
  {
   "cell_type": "markdown",
   "id": "0e3af062",
   "metadata": {
    "papermill": {
     "duration": 0.00367,
     "end_time": "2024-12-09T15:33:03.988860",
     "exception": false,
     "start_time": "2024-12-09T15:33:03.985190",
     "status": "completed"
    },
    "tags": []
   },
   "source": [
    "## Recap\n",
    "You've built a model. In this exercise you will test how good your model is.\n",
    "\n",
    "Run the cell below to set up your coding environment where the previous exercise left off."
   ]
  },
  {
   "cell_type": "code",
   "execution_count": 1,
   "id": "17be0d21",
   "metadata": {
    "execution": {
     "iopub.execute_input": "2024-12-09T15:33:03.997816Z",
     "iopub.status.busy": "2024-12-09T15:33:03.997412Z",
     "iopub.status.idle": "2024-12-09T15:33:06.582287Z",
     "shell.execute_reply": "2024-12-09T15:33:06.581129Z"
    },
    "papermill": {
     "duration": 2.592046,
     "end_time": "2024-12-09T15:33:06.584543",
     "exception": false,
     "start_time": "2024-12-09T15:33:03.992497",
     "status": "completed"
    },
    "tags": []
   },
   "outputs": [
    {
     "name": "stdout",
     "output_type": "stream",
     "text": [
      "First in-sample predictions: [208500. 181500. 223500. 140000. 250000.]\n",
      "Actual target values for those homes: [208500, 181500, 223500, 140000, 250000]\n",
      "Setup Complete\n"
     ]
    }
   ],
   "source": [
    "# Code you have previously used to load data\n",
    "import pandas as pd\n",
    "from sklearn.tree import DecisionTreeRegressor\n",
    "\n",
    "# Path of the file to read\n",
    "iowa_file_path = '../input/home-data-for-ml-course/train.csv'\n",
    "\n",
    "home_data = pd.read_csv(iowa_file_path)\n",
    "y = home_data.SalePrice\n",
    "feature_columns = ['LotArea', 'YearBuilt', '1stFlrSF', '2ndFlrSF', 'FullBath', 'BedroomAbvGr', 'TotRmsAbvGrd']\n",
    "X = home_data[feature_columns]\n",
    "\n",
    "# Specify Model\n",
    "iowa_model = DecisionTreeRegressor()\n",
    "# Fit Model\n",
    "iowa_model.fit(X, y)\n",
    "\n",
    "print(\"First in-sample predictions:\", iowa_model.predict(X.head()))\n",
    "print(\"Actual target values for those homes:\", y.head().tolist())\n",
    "\n",
    "# Set up code checking\n",
    "from learntools.core import binder\n",
    "binder.bind(globals())\n",
    "from learntools.machine_learning.ex4 import *\n",
    "print(\"Setup Complete\")"
   ]
  },
  {
   "cell_type": "markdown",
   "id": "95bfa8b4",
   "metadata": {
    "papermill": {
     "duration": 0.003534,
     "end_time": "2024-12-09T15:33:06.591943",
     "exception": false,
     "start_time": "2024-12-09T15:33:06.588409",
     "status": "completed"
    },
    "tags": []
   },
   "source": [
    "# Exercises\n",
    "\n",
    "## Step 1: Split Your Data\n",
    "Use the `train_test_split` function to split up your data.\n",
    "\n",
    "Give it the argument `random_state=1` so the `check` functions know what to expect when verifying your code.\n",
    "\n",
    "Recall, your features are loaded in the DataFrame **X** and your target is loaded in **y**.\n"
   ]
  },
  {
   "cell_type": "code",
   "execution_count": 2,
   "id": "8e2b5bf4",
   "metadata": {
    "execution": {
     "iopub.execute_input": "2024-12-09T15:33:06.601128Z",
     "iopub.status.busy": "2024-12-09T15:33:06.600334Z",
     "iopub.status.idle": "2024-12-09T15:33:06.615193Z",
     "shell.execute_reply": "2024-12-09T15:33:06.614279Z"
    },
    "papermill": {
     "duration": 0.021618,
     "end_time": "2024-12-09T15:33:06.617154",
     "exception": false,
     "start_time": "2024-12-09T15:33:06.595536",
     "status": "completed"
    },
    "tags": []
   },
   "outputs": [
    {
     "data": {
      "application/javascript": [
       "parent.postMessage({\"jupyterEvent\": \"custom.exercise_interaction\", \"data\": {\"outcomeType\": 1, \"valueTowardsCompletion\": 0.25, \"interactionType\": 1, \"questionType\": 2, \"questionId\": \"1_SplitData\", \"learnToolsVersion\": \"0.3.4\", \"failureMessage\": \"\", \"exceptionClass\": \"\", \"trace\": \"\"}}, \"*\")"
      ],
      "text/plain": [
       "<IPython.core.display.Javascript object>"
      ]
     },
     "metadata": {},
     "output_type": "display_data"
    },
    {
     "data": {
      "text/markdown": [
       "<span style=\"color:#33cc33\">Correct</span>"
      ],
      "text/plain": [
       "Correct"
      ]
     },
     "metadata": {},
     "output_type": "display_data"
    }
   ],
   "source": [
    "from sklearn.model_selection import train_test_split\n",
    "\n",
    "# fill in and uncomment\n",
    "train_X, val_X, train_y, val_y = train_test_split(X,y,random_state=1)\n",
    "\n",
    "# Check your answer\n",
    "step_1.check()"
   ]
  },
  {
   "cell_type": "code",
   "execution_count": 3,
   "id": "45d2d775",
   "metadata": {
    "execution": {
     "iopub.execute_input": "2024-12-09T15:33:06.628170Z",
     "iopub.status.busy": "2024-12-09T15:33:06.627803Z",
     "iopub.status.idle": "2024-12-09T15:33:06.632425Z",
     "shell.execute_reply": "2024-12-09T15:33:06.631370Z"
    },
    "papermill": {
     "duration": 0.013143,
     "end_time": "2024-12-09T15:33:06.634585",
     "exception": false,
     "start_time": "2024-12-09T15:33:06.621442",
     "status": "completed"
    },
    "tags": []
   },
   "outputs": [],
   "source": [
    "# The lines below will show you a hint or the solution.\n",
    "# step_1.hint() \n",
    "# step_1.solution()\n"
   ]
  },
  {
   "cell_type": "markdown",
   "id": "f1d84f92",
   "metadata": {
    "papermill": {
     "duration": 0.003718,
     "end_time": "2024-12-09T15:33:06.642486",
     "exception": false,
     "start_time": "2024-12-09T15:33:06.638768",
     "status": "completed"
    },
    "tags": []
   },
   "source": [
    "## Step 2: Specify and Fit the Model\n",
    "\n",
    "Create a `DecisionTreeRegressor` model and fit it to the relevant data.\n",
    "Set `random_state` to 1 again when creating the model."
   ]
  },
  {
   "cell_type": "code",
   "execution_count": 4,
   "id": "4abdd858",
   "metadata": {
    "execution": {
     "iopub.execute_input": "2024-12-09T15:33:06.652022Z",
     "iopub.status.busy": "2024-12-09T15:33:06.651650Z",
     "iopub.status.idle": "2024-12-09T15:33:06.677316Z",
     "shell.execute_reply": "2024-12-09T15:33:06.676310Z"
    },
    "papermill": {
     "duration": 0.032822,
     "end_time": "2024-12-09T15:33:06.679238",
     "exception": false,
     "start_time": "2024-12-09T15:33:06.646416",
     "status": "completed"
    },
    "tags": []
   },
   "outputs": [
    {
     "name": "stdout",
     "output_type": "stream",
     "text": [
      "[186500. 184000. 130000.  92000. 164500. 220000. 335000. 144152. 215000.\n",
      " 262000.]\n",
      "[186500. 184000. 130000.  92000. 164500. 220000. 335000. 144152. 215000.\n",
      " 262000.]\n"
     ]
    },
    {
     "data": {
      "application/javascript": [
       "parent.postMessage({\"jupyterEvent\": \"custom.exercise_interaction\", \"data\": {\"outcomeType\": 1, \"valueTowardsCompletion\": 0.25, \"interactionType\": 1, \"questionType\": 2, \"questionId\": \"2_FitModelWithTrain\", \"learnToolsVersion\": \"0.3.4\", \"failureMessage\": \"\", \"exceptionClass\": \"\", \"trace\": \"\"}}, \"*\")"
      ],
      "text/plain": [
       "<IPython.core.display.Javascript object>"
      ]
     },
     "metadata": {},
     "output_type": "display_data"
    },
    {
     "data": {
      "text/markdown": [
       "<span style=\"color:#33cc33\">Correct</span>"
      ],
      "text/plain": [
       "Correct"
      ]
     },
     "metadata": {},
     "output_type": "display_data"
    }
   ],
   "source": [
    "# You imported DecisionTreeRegressor in your last exercise\n",
    "# and that code has been copied to the setup code above. So, no need to\n",
    "# import it again\n",
    "\n",
    "# Specify the model\n",
    "iowa_model = DecisionTreeRegressor(random_state=1)\n",
    "\n",
    "# Fit iowa_model with the training data.\n",
    "iowa_model.fit(train_X,train_y)\n",
    "\n",
    "# Check your answer\n",
    "step_2.check()"
   ]
  },
  {
   "cell_type": "code",
   "execution_count": 5,
   "id": "93bfb5c3",
   "metadata": {
    "execution": {
     "iopub.execute_input": "2024-12-09T15:33:06.689385Z",
     "iopub.status.busy": "2024-12-09T15:33:06.688991Z",
     "iopub.status.idle": "2024-12-09T15:33:06.693175Z",
     "shell.execute_reply": "2024-12-09T15:33:06.692243Z"
    },
    "papermill": {
     "duration": 0.011765,
     "end_time": "2024-12-09T15:33:06.695361",
     "exception": false,
     "start_time": "2024-12-09T15:33:06.683596",
     "status": "completed"
    },
    "tags": []
   },
   "outputs": [],
   "source": [
    "# step_2.hint()\n",
    "# step_2.solution()"
   ]
  },
  {
   "cell_type": "markdown",
   "id": "405419c6",
   "metadata": {
    "papermill": {
     "duration": 0.004042,
     "end_time": "2024-12-09T15:33:06.703843",
     "exception": false,
     "start_time": "2024-12-09T15:33:06.699801",
     "status": "completed"
    },
    "tags": []
   },
   "source": [
    "## Step 3: Make Predictions with Validation data\n"
   ]
  },
  {
   "cell_type": "code",
   "execution_count": 6,
   "id": "31379ccc",
   "metadata": {
    "execution": {
     "iopub.execute_input": "2024-12-09T15:33:06.714372Z",
     "iopub.status.busy": "2024-12-09T15:33:06.713602Z",
     "iopub.status.idle": "2024-12-09T15:33:06.724533Z",
     "shell.execute_reply": "2024-12-09T15:33:06.723569Z"
    },
    "papermill": {
     "duration": 0.018596,
     "end_time": "2024-12-09T15:33:06.726561",
     "exception": false,
     "start_time": "2024-12-09T15:33:06.707965",
     "status": "completed"
    },
    "tags": []
   },
   "outputs": [
    {
     "data": {
      "application/javascript": [
       "parent.postMessage({\"jupyterEvent\": \"custom.exercise_interaction\", \"data\": {\"outcomeType\": 1, \"valueTowardsCompletion\": 0.25, \"interactionType\": 1, \"questionType\": 2, \"questionId\": \"3_ValPreds\", \"learnToolsVersion\": \"0.3.4\", \"failureMessage\": \"\", \"exceptionClass\": \"\", \"trace\": \"\"}}, \"*\")"
      ],
      "text/plain": [
       "<IPython.core.display.Javascript object>"
      ]
     },
     "metadata": {},
     "output_type": "display_data"
    },
    {
     "data": {
      "text/markdown": [
       "<span style=\"color:#33cc33\">Correct</span>"
      ],
      "text/plain": [
       "Correct"
      ]
     },
     "metadata": {},
     "output_type": "display_data"
    }
   ],
   "source": [
    "# Predict with all validation observations\n",
    "val_predictions = iowa_model.predict(val_X)\n",
    "\n",
    "# Check your answer\n",
    "step_3.check()"
   ]
  },
  {
   "cell_type": "code",
   "execution_count": 7,
   "id": "6c59a96f",
   "metadata": {
    "execution": {
     "iopub.execute_input": "2024-12-09T15:33:06.737564Z",
     "iopub.status.busy": "2024-12-09T15:33:06.737143Z",
     "iopub.status.idle": "2024-12-09T15:33:06.741642Z",
     "shell.execute_reply": "2024-12-09T15:33:06.740614Z"
    },
    "papermill": {
     "duration": 0.012423,
     "end_time": "2024-12-09T15:33:06.743730",
     "exception": false,
     "start_time": "2024-12-09T15:33:06.731307",
     "status": "completed"
    },
    "tags": []
   },
   "outputs": [],
   "source": [
    "# step_3.hint()\n",
    "# step_3.solution()"
   ]
  },
  {
   "cell_type": "markdown",
   "id": "11043e85",
   "metadata": {
    "papermill": {
     "duration": 0.004224,
     "end_time": "2024-12-09T15:33:06.752615",
     "exception": false,
     "start_time": "2024-12-09T15:33:06.748391",
     "status": "completed"
    },
    "tags": []
   },
   "source": [
    "Inspect your predictions and actual values from validation data."
   ]
  },
  {
   "cell_type": "code",
   "execution_count": 8,
   "id": "156da7d9",
   "metadata": {
    "execution": {
     "iopub.execute_input": "2024-12-09T15:33:06.763057Z",
     "iopub.status.busy": "2024-12-09T15:33:06.762702Z",
     "iopub.status.idle": "2024-12-09T15:33:06.769238Z",
     "shell.execute_reply": "2024-12-09T15:33:06.768232Z"
    },
    "papermill": {
     "duration": 0.014449,
     "end_time": "2024-12-09T15:33:06.771596",
     "exception": false,
     "start_time": "2024-12-09T15:33:06.757147",
     "status": "completed"
    },
    "tags": []
   },
   "outputs": [
    {
     "name": "stdout",
     "output_type": "stream",
     "text": [
      "[186500. 184000. 130000.  92000. 164500.]\n",
      "258     231500\n",
      "267     179500\n",
      "288     122000\n",
      "649      84500\n",
      "1233    142000\n",
      "Name: SalePrice, dtype: int64\n"
     ]
    }
   ],
   "source": [
    "# print the top few validation predictions\n",
    "print(val_predictions[:5])\n",
    "# print the top few actual prices from validation data\n",
    "print(val_y.head())"
   ]
  },
  {
   "cell_type": "markdown",
   "id": "b97dca8b",
   "metadata": {
    "papermill": {
     "duration": 0.00444,
     "end_time": "2024-12-09T15:33:06.780738",
     "exception": false,
     "start_time": "2024-12-09T15:33:06.776298",
     "status": "completed"
    },
    "tags": []
   },
   "source": [
    "What do you notice that is different from what you saw with in-sample predictions (which are printed after the top code cell in this page).\n",
    "\n",
    "Do you remember why validation predictions differ from in-sample (or training) predictions? This is an important idea from the last lesson.\n",
    "\n",
    "## Step 4: Calculate the Mean Absolute Error in Validation Data\n"
   ]
  },
  {
   "cell_type": "code",
   "execution_count": 9,
   "id": "31be8c4c",
   "metadata": {
    "execution": {
     "iopub.execute_input": "2024-12-09T15:33:06.791431Z",
     "iopub.status.busy": "2024-12-09T15:33:06.790939Z",
     "iopub.status.idle": "2024-12-09T15:33:06.801191Z",
     "shell.execute_reply": "2024-12-09T15:33:06.800257Z"
    },
    "papermill": {
     "duration": 0.017978,
     "end_time": "2024-12-09T15:33:06.803244",
     "exception": false,
     "start_time": "2024-12-09T15:33:06.785266",
     "status": "completed"
    },
    "tags": []
   },
   "outputs": [
    {
     "name": "stdout",
     "output_type": "stream",
     "text": [
      "29652.931506849316\n"
     ]
    },
    {
     "data": {
      "application/javascript": [
       "parent.postMessage({\"jupyterEvent\": \"custom.exercise_interaction\", \"data\": {\"outcomeType\": 1, \"valueTowardsCompletion\": 0.25, \"interactionType\": 1, \"questionType\": 1, \"questionId\": \"4_MAE\", \"learnToolsVersion\": \"0.3.4\", \"failureMessage\": \"\", \"exceptionClass\": \"\", \"trace\": \"\"}}, \"*\")"
      ],
      "text/plain": [
       "<IPython.core.display.Javascript object>"
      ]
     },
     "metadata": {},
     "output_type": "display_data"
    },
    {
     "data": {
      "text/markdown": [
       "<span style=\"color:#33cc33\">Correct</span>"
      ],
      "text/plain": [
       "Correct"
      ]
     },
     "metadata": {},
     "output_type": "display_data"
    }
   ],
   "source": [
    "from sklearn.metrics import mean_absolute_error\n",
    "val_mae = mean_absolute_error(val_y,val_predictions)\n",
    "\n",
    "# uncomment following line to see the validation_mae\n",
    "print(val_mae)\n",
    "\n",
    "# Check your answer\n",
    "step_4.check()"
   ]
  },
  {
   "cell_type": "code",
   "execution_count": 10,
   "id": "35401024",
   "metadata": {
    "execution": {
     "iopub.execute_input": "2024-12-09T15:33:06.815169Z",
     "iopub.status.busy": "2024-12-09T15:33:06.814463Z",
     "iopub.status.idle": "2024-12-09T15:33:06.818694Z",
     "shell.execute_reply": "2024-12-09T15:33:06.817689Z"
    },
    "papermill": {
     "duration": 0.012478,
     "end_time": "2024-12-09T15:33:06.820776",
     "exception": false,
     "start_time": "2024-12-09T15:33:06.808298",
     "status": "completed"
    },
    "tags": []
   },
   "outputs": [],
   "source": [
    "# step_4.hint()\n",
    "# step_4.solution()"
   ]
  },
  {
   "cell_type": "markdown",
   "id": "6e1fd801",
   "metadata": {
    "papermill": {
     "duration": 0.004679,
     "end_time": "2024-12-09T15:33:06.830403",
     "exception": false,
     "start_time": "2024-12-09T15:33:06.825724",
     "status": "completed"
    },
    "tags": []
   },
   "source": [
    "Is that MAE good?  There isn't a general rule for what values are good that applies across applications. But you'll see how to use (and improve) this number in the next step.\n",
    "\n",
    "# Keep Going\n",
    "\n",
    "You are ready for **[Underfitting and Overfitting](https://www.kaggle.com/dansbecker/underfitting-and-overfitting).**\n"
   ]
  },
  {
   "cell_type": "markdown",
   "id": "19d0f792",
   "metadata": {
    "papermill": {
     "duration": 0.004567,
     "end_time": "2024-12-09T15:33:06.839963",
     "exception": false,
     "start_time": "2024-12-09T15:33:06.835396",
     "status": "completed"
    },
    "tags": []
   },
   "source": [
    "---\n",
    "\n",
    "\n",
    "\n",
    "\n",
    "*Have questions or comments? Visit the [course discussion forum](https://www.kaggle.com/learn/intro-to-machine-learning/discussion) to chat with other learners.*"
   ]
  }
 ],
 "metadata": {
  "kaggle": {
   "accelerator": "none",
   "dataSources": [
    {
     "databundleVersionId": 111096,
     "sourceId": 10211,
     "sourceType": "competition"
    },
    {
     "datasetId": 11167,
     "sourceId": 15520,
     "sourceType": "datasetVersion"
    },
    {
     "datasetId": 2709,
     "sourceId": 38454,
     "sourceType": "datasetVersion"
    }
   ],
   "isGpuEnabled": false,
   "isInternetEnabled": false,
   "language": "python",
   "sourceType": "notebook"
  },
  "kernelspec": {
   "display_name": "Python 3",
   "language": "python",
   "name": "python3"
  },
  "language_info": {
   "codemirror_mode": {
    "name": "ipython",
    "version": 3
   },
   "file_extension": ".py",
   "mimetype": "text/x-python",
   "name": "python",
   "nbconvert_exporter": "python",
   "pygments_lexer": "ipython3",
   "version": "3.10.14"
  },
  "papermill": {
   "default_parameters": {},
   "duration": 6.075781,
   "end_time": "2024-12-09T15:33:07.465967",
   "environment_variables": {},
   "exception": null,
   "input_path": "__notebook__.ipynb",
   "output_path": "__notebook__.ipynb",
   "parameters": {},
   "start_time": "2024-12-09T15:33:01.390186",
   "version": "2.6.0"
  }
 },
 "nbformat": 4,
 "nbformat_minor": 5
}
