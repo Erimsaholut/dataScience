{
 "cells": [
  {
   "cell_type": "markdown",
   "id": "b2406abf",
   "metadata": {
    "papermill": {
     "duration": 0.005367,
     "end_time": "2024-12-08T22:37:15.495682",
     "exception": false,
     "start_time": "2024-12-08T22:37:15.490315",
     "status": "completed"
    },
    "tags": []
   },
   "source": [
    "**This notebook is an exercise in the [Introduction to Machine Learning](https://www.kaggle.com/learn/intro-to-machine-learning) course.  You can reference the tutorial at [this link](https://www.kaggle.com/dansbecker/your-first-machine-learning-model).**\n",
    "\n",
    "---\n"
   ]
  },
  {
   "cell_type": "markdown",
   "id": "0db84cee",
   "metadata": {
    "papermill": {
     "duration": 0.004177,
     "end_time": "2024-12-08T22:37:15.504465",
     "exception": false,
     "start_time": "2024-12-08T22:37:15.500288",
     "status": "completed"
    },
    "tags": []
   },
   "source": [
    "## Recap\n",
    "So far, you have loaded your data and reviewed it with the following code. Run this cell to set up your coding environment where the previous step left off."
   ]
  },
  {
   "cell_type": "code",
   "execution_count": 1,
   "id": "2434f6ef",
   "metadata": {
    "execution": {
     "iopub.execute_input": "2024-12-08T22:37:15.515181Z",
     "iopub.status.busy": "2024-12-08T22:37:15.514401Z",
     "iopub.status.idle": "2024-12-08T22:37:18.447339Z",
     "shell.execute_reply": "2024-12-08T22:37:18.446202Z"
    },
    "papermill": {
     "duration": 2.940722,
     "end_time": "2024-12-08T22:37:18.449758",
     "exception": false,
     "start_time": "2024-12-08T22:37:15.509036",
     "status": "completed"
    },
    "tags": []
   },
   "outputs": [
    {
     "name": "stdout",
     "output_type": "stream",
     "text": [
      "Setup Complete\n"
     ]
    }
   ],
   "source": [
    "# Code you have previously used to load data\n",
    "import pandas as pd\n",
    "\n",
    "# Path of the file to read\n",
    "iowa_file_path = '../input/home-data-for-ml-course/train.csv'\n",
    "\n",
    "home_data = pd.read_csv(iowa_file_path)\n",
    "\n",
    "# Set up code checking\n",
    "from learntools.core import binder\n",
    "binder.bind(globals())\n",
    "from learntools.machine_learning.ex3 import *\n",
    "\n",
    "print(\"Setup Complete\")"
   ]
  },
  {
   "cell_type": "markdown",
   "id": "24576b60",
   "metadata": {
    "papermill": {
     "duration": 0.005163,
     "end_time": "2024-12-08T22:37:18.459426",
     "exception": false,
     "start_time": "2024-12-08T22:37:18.454263",
     "status": "completed"
    },
    "tags": []
   },
   "source": [
    "# Exercises\n",
    "\n",
    "## Step 1: Specify Prediction Target\n",
    "Select the target variable, which corresponds to the sales price. Save this to a new variable called `y`. You'll need to print a list of the columns to find the name of the column you need.\n"
   ]
  },
  {
   "cell_type": "code",
   "execution_count": 2,
   "id": "ceebb6a6",
   "metadata": {
    "execution": {
     "iopub.execute_input": "2024-12-08T22:37:18.469891Z",
     "iopub.status.busy": "2024-12-08T22:37:18.469320Z",
     "iopub.status.idle": "2024-12-08T22:37:18.477563Z",
     "shell.execute_reply": "2024-12-08T22:37:18.476448Z"
    },
    "papermill": {
     "duration": 0.015951,
     "end_time": "2024-12-08T22:37:18.479693",
     "exception": false,
     "start_time": "2024-12-08T22:37:18.463742",
     "status": "completed"
    },
    "tags": []
   },
   "outputs": [
    {
     "data": {
      "text/plain": [
       "Index(['Id', 'MSSubClass', 'MSZoning', 'LotFrontage', 'LotArea', 'Street',\n",
       "       'Alley', 'LotShape', 'LandContour', 'Utilities', 'LotConfig',\n",
       "       'LandSlope', 'Neighborhood', 'Condition1', 'Condition2', 'BldgType',\n",
       "       'HouseStyle', 'OverallQual', 'OverallCond', 'YearBuilt', 'YearRemodAdd',\n",
       "       'RoofStyle', 'RoofMatl', 'Exterior1st', 'Exterior2nd', 'MasVnrType',\n",
       "       'MasVnrArea', 'ExterQual', 'ExterCond', 'Foundation', 'BsmtQual',\n",
       "       'BsmtCond', 'BsmtExposure', 'BsmtFinType1', 'BsmtFinSF1',\n",
       "       'BsmtFinType2', 'BsmtFinSF2', 'BsmtUnfSF', 'TotalBsmtSF', 'Heating',\n",
       "       'HeatingQC', 'CentralAir', 'Electrical', '1stFlrSF', '2ndFlrSF',\n",
       "       'LowQualFinSF', 'GrLivArea', 'BsmtFullBath', 'BsmtHalfBath', 'FullBath',\n",
       "       'HalfBath', 'BedroomAbvGr', 'KitchenAbvGr', 'KitchenQual',\n",
       "       'TotRmsAbvGrd', 'Functional', 'Fireplaces', 'FireplaceQu', 'GarageType',\n",
       "       'GarageYrBlt', 'GarageFinish', 'GarageCars', 'GarageArea', 'GarageQual',\n",
       "       'GarageCond', 'PavedDrive', 'WoodDeckSF', 'OpenPorchSF',\n",
       "       'EnclosedPorch', '3SsnPorch', 'ScreenPorch', 'PoolArea', 'PoolQC',\n",
       "       'Fence', 'MiscFeature', 'MiscVal', 'MoSold', 'YrSold', 'SaleType',\n",
       "       'SaleCondition', 'SalePrice'],\n",
       "      dtype='object')"
      ]
     },
     "execution_count": 2,
     "metadata": {},
     "output_type": "execute_result"
    }
   ],
   "source": [
    "# print the list of columns in the dataset to find the name of the prediction target\n",
    "home_data.columns"
   ]
  },
  {
   "cell_type": "code",
   "execution_count": 3,
   "id": "ccba13dc",
   "metadata": {
    "execution": {
     "iopub.execute_input": "2024-12-08T22:37:18.491180Z",
     "iopub.status.busy": "2024-12-08T22:37:18.490204Z",
     "iopub.status.idle": "2024-12-08T22:37:18.505005Z",
     "shell.execute_reply": "2024-12-08T22:37:18.503946Z"
    },
    "papermill": {
     "duration": 0.023125,
     "end_time": "2024-12-08T22:37:18.507442",
     "exception": false,
     "start_time": "2024-12-08T22:37:18.484317",
     "status": "completed"
    },
    "tags": []
   },
   "outputs": [
    {
     "data": {
      "application/javascript": [
       "parent.postMessage({\"jupyterEvent\": \"custom.exercise_interaction\", \"data\": {\"outcomeType\": 1, \"valueTowardsCompletion\": 0.25, \"interactionType\": 1, \"questionType\": 2, \"questionId\": \"1_SetTarget\", \"learnToolsVersion\": \"0.3.4\", \"failureMessage\": \"\", \"exceptionClass\": \"\", \"trace\": \"\"}}, \"*\")"
      ],
      "text/plain": [
       "<IPython.core.display.Javascript object>"
      ]
     },
     "metadata": {},
     "output_type": "display_data"
    },
    {
     "data": {
      "text/markdown": [
       "<span style=\"color:#33cc33\">Correct</span>"
      ],
      "text/plain": [
       "Correct"
      ]
     },
     "metadata": {},
     "output_type": "display_data"
    }
   ],
   "source": [
    "y = home_data.SalePrice\n",
    "\n",
    "# Check your answer\n",
    "step_1.check()"
   ]
  },
  {
   "cell_type": "code",
   "execution_count": 4,
   "id": "cd73b284",
   "metadata": {
    "collapsed": true,
    "execution": {
     "iopub.execute_input": "2024-12-08T22:37:18.519533Z",
     "iopub.status.busy": "2024-12-08T22:37:18.518572Z",
     "iopub.status.idle": "2024-12-08T22:37:18.523336Z",
     "shell.execute_reply": "2024-12-08T22:37:18.522149Z"
    },
    "jupyter": {
     "outputs_hidden": true
    },
    "papermill": {
     "duration": 0.01289,
     "end_time": "2024-12-08T22:37:18.525543",
     "exception": false,
     "start_time": "2024-12-08T22:37:18.512653",
     "status": "completed"
    },
    "tags": []
   },
   "outputs": [],
   "source": [
    "# The lines below will show you a hint or the solution.\n",
    "# step_1.hint() \n",
    "# step_1.solution()"
   ]
  },
  {
   "cell_type": "markdown",
   "id": "d2805b1a",
   "metadata": {
    "papermill": {
     "duration": 0.004362,
     "end_time": "2024-12-08T22:37:18.534625",
     "exception": false,
     "start_time": "2024-12-08T22:37:18.530263",
     "status": "completed"
    },
    "tags": []
   },
   "source": [
    "## Step 2: Create X\n",
    "Now you will create a DataFrame called `X` holding the predictive features.\n",
    "\n",
    "Since you want only some columns from the original data, you'll first create a list with the names of the columns you want in `X`.\n",
    "\n",
    "You'll use just the following columns in the list (you can copy and paste the whole list to save some typing, though you'll still need to add quotes):\n",
    "  * LotArea\n",
    "  * YearBuilt\n",
    "  * 1stFlrSF\n",
    "  * 2ndFlrSF\n",
    "  * FullBath\n",
    "  * BedroomAbvGr\n",
    "  * TotRmsAbvGrd\n",
    "\n",
    "After you've created that list of features, use it to create the DataFrame that you'll use to fit the model."
   ]
  },
  {
   "cell_type": "code",
   "execution_count": 5,
   "id": "0af64d6f",
   "metadata": {
    "execution": {
     "iopub.execute_input": "2024-12-08T22:37:18.545439Z",
     "iopub.status.busy": "2024-12-08T22:37:18.545077Z",
     "iopub.status.idle": "2024-12-08T22:37:18.567254Z",
     "shell.execute_reply": "2024-12-08T22:37:18.566056Z"
    },
    "papermill": {
     "duration": 0.030517,
     "end_time": "2024-12-08T22:37:18.569748",
     "exception": false,
     "start_time": "2024-12-08T22:37:18.539231",
     "status": "completed"
    },
    "tags": []
   },
   "outputs": [
    {
     "data": {
      "application/javascript": [
       "parent.postMessage({\"jupyterEvent\": \"custom.exercise_interaction\", \"data\": {\"outcomeType\": 1, \"valueTowardsCompletion\": 0.25, \"interactionType\": 1, \"questionType\": 2, \"questionId\": \"2_SelectPredictionData\", \"learnToolsVersion\": \"0.3.4\", \"failureMessage\": \"\", \"exceptionClass\": \"\", \"trace\": \"\"}}, \"*\")"
      ],
      "text/plain": [
       "<IPython.core.display.Javascript object>"
      ]
     },
     "metadata": {},
     "output_type": "display_data"
    },
    {
     "data": {
      "text/markdown": [
       "<span style=\"color:#33cc33\">Correct</span>"
      ],
      "text/plain": [
       "Correct"
      ]
     },
     "metadata": {},
     "output_type": "display_data"
    }
   ],
   "source": [
    "# Create the list of features below\n",
    "feature_names = [\"LotArea\",\n",
    "\"YearBuilt\",\n",
    "\"1stFlrSF\",\n",
    "\"2ndFlrSF\",\n",
    "\"FullBath\",\n",
    "\"BedroomAbvGr\",\n",
    "\"TotRmsAbvGrd\"]\n",
    "\n",
    "# Select data corresponding to features in feature_names\n",
    "X = home_data[feature_names]\n",
    "\n",
    "# Check your answer\n",
    "step_2.check()"
   ]
  },
  {
   "cell_type": "code",
   "execution_count": 6,
   "id": "8c54ab14",
   "metadata": {
    "collapsed": true,
    "execution": {
     "iopub.execute_input": "2024-12-08T22:37:18.582427Z",
     "iopub.status.busy": "2024-12-08T22:37:18.581448Z",
     "iopub.status.idle": "2024-12-08T22:37:18.586432Z",
     "shell.execute_reply": "2024-12-08T22:37:18.585357Z"
    },
    "jupyter": {
     "outputs_hidden": true
    },
    "papermill": {
     "duration": 0.014243,
     "end_time": "2024-12-08T22:37:18.589128",
     "exception": false,
     "start_time": "2024-12-08T22:37:18.574885",
     "status": "completed"
    },
    "tags": []
   },
   "outputs": [],
   "source": [
    "# step_2.hint()\n",
    "# step_2.solution()"
   ]
  },
  {
   "cell_type": "markdown",
   "id": "0ce0f377",
   "metadata": {
    "papermill": {
     "duration": 0.004629,
     "end_time": "2024-12-08T22:37:18.599018",
     "exception": false,
     "start_time": "2024-12-08T22:37:18.594389",
     "status": "completed"
    },
    "tags": []
   },
   "source": [
    "## Review Data\n",
    "Before building a model, take a quick look at **X** to verify it looks sensible"
   ]
  },
  {
   "cell_type": "code",
   "execution_count": 7,
   "id": "42c04d9c",
   "metadata": {
    "execution": {
     "iopub.execute_input": "2024-12-08T22:37:18.610477Z",
     "iopub.status.busy": "2024-12-08T22:37:18.610094Z",
     "iopub.status.idle": "2024-12-08T22:37:18.643909Z",
     "shell.execute_reply": "2024-12-08T22:37:18.642618Z"
    },
    "papermill": {
     "duration": 0.042757,
     "end_time": "2024-12-08T22:37:18.646647",
     "exception": false,
     "start_time": "2024-12-08T22:37:18.603890",
     "status": "completed"
    },
    "tags": []
   },
   "outputs": [
    {
     "name": "stdout",
     "output_type": "stream",
     "text": [
      "             LotArea    YearBuilt     1stFlrSF     2ndFlrSF     FullBath  \\\n",
      "count    1460.000000  1460.000000  1460.000000  1460.000000  1460.000000   \n",
      "mean    10516.828082  1971.267808  1162.626712   346.992466     1.565068   \n",
      "std      9981.264932    30.202904   386.587738   436.528436     0.550916   \n",
      "min      1300.000000  1872.000000   334.000000     0.000000     0.000000   \n",
      "25%      7553.500000  1954.000000   882.000000     0.000000     1.000000   \n",
      "50%      9478.500000  1973.000000  1087.000000     0.000000     2.000000   \n",
      "75%     11601.500000  2000.000000  1391.250000   728.000000     2.000000   \n",
      "max    215245.000000  2010.000000  4692.000000  2065.000000     3.000000   \n",
      "\n",
      "       BedroomAbvGr  TotRmsAbvGrd  \n",
      "count   1460.000000   1460.000000  \n",
      "mean       2.866438      6.517808  \n",
      "std        0.815778      1.625393  \n",
      "min        0.000000      2.000000  \n",
      "25%        2.000000      5.000000  \n",
      "50%        3.000000      6.000000  \n",
      "75%        3.000000      7.000000  \n",
      "max        8.000000     14.000000  \n",
      "   LotArea  YearBuilt  1stFlrSF  2ndFlrSF  FullBath  BedroomAbvGr  \\\n",
      "0     8450       2003       856       854         2             3   \n",
      "1     9600       1976      1262         0         2             3   \n",
      "2    11250       2001       920       866         2             3   \n",
      "3     9550       1915       961       756         1             3   \n",
      "4    14260       2000      1145      1053         2             4   \n",
      "\n",
      "   TotRmsAbvGrd  \n",
      "0             8  \n",
      "1             6  \n",
      "2             6  \n",
      "3             7  \n",
      "4             9  \n"
     ]
    }
   ],
   "source": [
    "# Review data\n",
    "# print description or statistics from X\n",
    "print(X.describe())\n",
    "\n",
    "# print the top few lines\n",
    "print(X.head())"
   ]
  },
  {
   "cell_type": "markdown",
   "id": "c4f90932",
   "metadata": {
    "papermill": {
     "duration": 0.004761,
     "end_time": "2024-12-08T22:37:18.656551",
     "exception": false,
     "start_time": "2024-12-08T22:37:18.651790",
     "status": "completed"
    },
    "tags": []
   },
   "source": [
    "## Step 3: Specify and Fit Model\n",
    "Create a `DecisionTreeRegressor` and save it iowa_model. Ensure you've done the relevant import from sklearn to run this command.\n",
    "\n",
    "Then fit the model you just created using the data in `X` and `y` that you saved above."
   ]
  },
  {
   "cell_type": "code",
   "execution_count": 8,
   "id": "70c65ae8",
   "metadata": {
    "execution": {
     "iopub.execute_input": "2024-12-08T22:37:18.668106Z",
     "iopub.status.busy": "2024-12-08T22:37:18.667744Z",
     "iopub.status.idle": "2024-12-08T22:37:18.687703Z",
     "shell.execute_reply": "2024-12-08T22:37:18.686665Z"
    },
    "papermill": {
     "duration": 0.02852,
     "end_time": "2024-12-08T22:37:18.689999",
     "exception": false,
     "start_time": "2024-12-08T22:37:18.661479",
     "status": "completed"
    },
    "tags": []
   },
   "outputs": [
    {
     "data": {
      "application/javascript": [
       "parent.postMessage({\"jupyterEvent\": \"custom.exercise_interaction\", \"data\": {\"outcomeType\": 1, \"valueTowardsCompletion\": 0.25, \"interactionType\": 1, \"questionType\": 2, \"questionId\": \"3_CreateModel\", \"learnToolsVersion\": \"0.3.4\", \"failureMessage\": \"\", \"exceptionClass\": \"\", \"trace\": \"\"}}, \"*\")"
      ],
      "text/plain": [
       "<IPython.core.display.Javascript object>"
      ]
     },
     "metadata": {},
     "output_type": "display_data"
    },
    {
     "data": {
      "text/markdown": [
       "<span style=\"color:#33cc33\">Correct</span>"
      ],
      "text/plain": [
       "Correct"
      ]
     },
     "metadata": {},
     "output_type": "display_data"
    }
   ],
   "source": [
    "from sklearn.tree import DecisionTreeRegressor\n",
    "#specify the model. \n",
    "#For model reproducibility, set a numeric value for random_state when specifying the model\n",
    "iowa_model = DecisionTreeRegressor(random_state=1)\n",
    "\n",
    "# Fit the model\n",
    "iowa_model.fit(X,y)\n",
    "\n",
    "# Check your answer\n",
    "step_3.check()"
   ]
  },
  {
   "cell_type": "code",
   "execution_count": 9,
   "id": "9c631026",
   "metadata": {
    "execution": {
     "iopub.execute_input": "2024-12-08T22:37:18.702583Z",
     "iopub.status.busy": "2024-12-08T22:37:18.701783Z",
     "iopub.status.idle": "2024-12-08T22:37:18.711490Z",
     "shell.execute_reply": "2024-12-08T22:37:18.710333Z"
    },
    "papermill": {
     "duration": 0.018341,
     "end_time": "2024-12-08T22:37:18.713704",
     "exception": false,
     "start_time": "2024-12-08T22:37:18.695363",
     "status": "completed"
    },
    "tags": []
   },
   "outputs": [
    {
     "data": {
      "application/javascript": [
       "parent.postMessage({\"jupyterEvent\": \"custom.exercise_interaction\", \"data\": {\"interactionType\": 2, \"questionType\": 2, \"questionId\": \"3_CreateModel\", \"learnToolsVersion\": \"0.3.4\", \"valueTowardsCompletion\": 0.0, \"failureMessage\": \"\", \"exceptionClass\": \"\", \"trace\": \"\", \"outcomeType\": 4}}, \"*\")"
      ],
      "text/plain": [
       "<IPython.core.display.Javascript object>"
      ]
     },
     "metadata": {},
     "output_type": "display_data"
    },
    {
     "data": {
      "text/markdown": [
       "<span style=\"color:#3366cc\">Hint:</span> Include `random_state` when specifying model. Data is specified when fitting it."
      ],
      "text/plain": [
       "Hint: Include `random_state` when specifying model. Data is specified when fitting it."
      ]
     },
     "metadata": {},
     "output_type": "display_data"
    }
   ],
   "source": [
    "step_3.hint()\n",
    "#step_3.solution()"
   ]
  },
  {
   "cell_type": "markdown",
   "id": "e05df3fa",
   "metadata": {
    "papermill": {
     "duration": 0.005088,
     "end_time": "2024-12-08T22:37:18.724340",
     "exception": false,
     "start_time": "2024-12-08T22:37:18.719252",
     "status": "completed"
    },
    "tags": []
   },
   "source": [
    "## Step 4: Make Predictions\n",
    "Make predictions with the model's `predict` command using `X` as the data. Save the results to a variable called `predictions`."
   ]
  },
  {
   "cell_type": "code",
   "execution_count": 10,
   "id": "74d9fe34",
   "metadata": {
    "execution": {
     "iopub.execute_input": "2024-12-08T22:37:18.737438Z",
     "iopub.status.busy": "2024-12-08T22:37:18.737099Z",
     "iopub.status.idle": "2024-12-08T22:37:18.750962Z",
     "shell.execute_reply": "2024-12-08T22:37:18.749715Z"
    },
    "papermill": {
     "duration": 0.023072,
     "end_time": "2024-12-08T22:37:18.753121",
     "exception": false,
     "start_time": "2024-12-08T22:37:18.730049",
     "status": "completed"
    },
    "tags": []
   },
   "outputs": [
    {
     "name": "stdout",
     "output_type": "stream",
     "text": [
      "[208500. 181500. 223500. ... 266500. 142125. 147500.]\n"
     ]
    },
    {
     "data": {
      "application/javascript": [
       "parent.postMessage({\"jupyterEvent\": \"custom.exercise_interaction\", \"data\": {\"outcomeType\": 1, \"valueTowardsCompletion\": 0.25, \"interactionType\": 1, \"questionType\": 2, \"questionId\": \"4_MakePredictions\", \"learnToolsVersion\": \"0.3.4\", \"failureMessage\": \"\", \"exceptionClass\": \"\", \"trace\": \"\"}}, \"*\")"
      ],
      "text/plain": [
       "<IPython.core.display.Javascript object>"
      ]
     },
     "metadata": {},
     "output_type": "display_data"
    },
    {
     "data": {
      "text/markdown": [
       "<span style=\"color:#33cc33\">Correct</span>"
      ],
      "text/plain": [
       "Correct"
      ]
     },
     "metadata": {},
     "output_type": "display_data"
    }
   ],
   "source": [
    "predictions = iowa_model.predict(X)\n",
    "print(predictions)\n",
    "\n",
    "# Check your answer\n",
    "step_4.check()"
   ]
  },
  {
   "cell_type": "code",
   "execution_count": 11,
   "id": "1083523e",
   "metadata": {
    "collapsed": true,
    "execution": {
     "iopub.execute_input": "2024-12-08T22:37:18.766025Z",
     "iopub.status.busy": "2024-12-08T22:37:18.765656Z",
     "iopub.status.idle": "2024-12-08T22:37:18.769925Z",
     "shell.execute_reply": "2024-12-08T22:37:18.768844Z"
    },
    "jupyter": {
     "outputs_hidden": true
    },
    "papermill": {
     "duration": 0.013203,
     "end_time": "2024-12-08T22:37:18.772096",
     "exception": false,
     "start_time": "2024-12-08T22:37:18.758893",
     "status": "completed"
    },
    "tags": []
   },
   "outputs": [],
   "source": [
    "# step_4.hint()\n",
    "# step_4.solution()"
   ]
  },
  {
   "cell_type": "markdown",
   "id": "ea39b56a",
   "metadata": {
    "papermill": {
     "duration": 0.005343,
     "end_time": "2024-12-08T22:37:18.783320",
     "exception": false,
     "start_time": "2024-12-08T22:37:18.777977",
     "status": "completed"
    },
    "tags": []
   },
   "source": [
    "## Think About Your Results\n",
    "\n",
    "Use the `head` method to compare the top few predictions to the actual home values (in `y`) for those same homes. Anything surprising?\n"
   ]
  },
  {
   "cell_type": "code",
   "execution_count": 12,
   "id": "31932fd1",
   "metadata": {
    "execution": {
     "iopub.execute_input": "2024-12-08T22:37:18.796712Z",
     "iopub.status.busy": "2024-12-08T22:37:18.796275Z",
     "iopub.status.idle": "2024-12-08T22:37:18.803221Z",
     "shell.execute_reply": "2024-12-08T22:37:18.801934Z"
    },
    "papermill": {
     "duration": 0.016934,
     "end_time": "2024-12-08T22:37:18.806026",
     "exception": false,
     "start_time": "2024-12-08T22:37:18.789092",
     "status": "completed"
    },
    "tags": []
   },
   "outputs": [
    {
     "name": "stdout",
     "output_type": "stream",
     "text": [
      "[208500. 181500. 223500. 140000. 250000.]\n",
      "0    208500\n",
      "1    181500\n",
      "2    223500\n",
      "3    140000\n",
      "4    250000\n",
      "Name: SalePrice, dtype: int64\n"
     ]
    }
   ],
   "source": [
    "print(predictions[:5])\n",
    "print(y.head())\n"
   ]
  },
  {
   "cell_type": "markdown",
   "id": "07ca9b85",
   "metadata": {
    "papermill": {
     "duration": 0.005636,
     "end_time": "2024-12-08T22:37:18.818159",
     "exception": false,
     "start_time": "2024-12-08T22:37:18.812523",
     "status": "completed"
    },
    "tags": []
   },
   "source": [
    "It's natural to ask how accurate the model's predictions will be and how you can improve that. That will be you're next step.\n",
    "\n",
    "# Keep Going\n",
    "\n",
    "You are ready for **[Model Validation](https://www.kaggle.com/dansbecker/model-validation).**\n"
   ]
  },
  {
   "cell_type": "markdown",
   "id": "d9ce6198",
   "metadata": {
    "papermill": {
     "duration": 0.007053,
     "end_time": "2024-12-08T22:37:18.831076",
     "exception": false,
     "start_time": "2024-12-08T22:37:18.824023",
     "status": "completed"
    },
    "tags": []
   },
   "source": [
    "---\n",
    "\n",
    "\n",
    "\n",
    "\n",
    "*Have questions or comments? Visit the [course discussion forum](https://www.kaggle.com/learn/intro-to-machine-learning/discussion) to chat with other learners.*"
   ]
  }
 ],
 "metadata": {
  "kaggle": {
   "accelerator": "none",
   "dataSources": [
    {
     "databundleVersionId": 111096,
     "sourceId": 10211,
     "sourceType": "competition"
    },
    {
     "datasetId": 11167,
     "sourceId": 15520,
     "sourceType": "datasetVersion"
    },
    {
     "datasetId": 2709,
     "sourceId": 38454,
     "sourceType": "datasetVersion"
    }
   ],
   "isGpuEnabled": false,
   "isInternetEnabled": false,
   "language": "python",
   "sourceType": "notebook"
  },
  "kernelspec": {
   "display_name": "Python 3",
   "language": "python",
   "name": "python3"
  },
  "language_info": {
   "codemirror_mode": {
    "name": "ipython",
    "version": 3
   },
   "file_extension": ".py",
   "mimetype": "text/x-python",
   "name": "python",
   "nbconvert_exporter": "python",
   "pygments_lexer": "ipython3",
   "version": "3.10.14"
  },
  "papermill": {
   "default_parameters": {},
   "duration": 6.887396,
   "end_time": "2024-12-08T22:37:19.460043",
   "environment_variables": {},
   "exception": null,
   "input_path": "__notebook__.ipynb",
   "output_path": "__notebook__.ipynb",
   "parameters": {},
   "start_time": "2024-12-08T22:37:12.572647",
   "version": "2.6.0"
  }
 },
 "nbformat": 4,
 "nbformat_minor": 5
}
