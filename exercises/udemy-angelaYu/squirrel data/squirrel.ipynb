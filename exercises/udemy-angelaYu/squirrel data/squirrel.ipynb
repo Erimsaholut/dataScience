{
 "cells": [
  {
   "cell_type": "code",
   "execution_count": 1,
   "id": "fbf01486",
   "metadata": {},
   "outputs": [],
   "source": [
    "import pandas as pd\n",
    "\n",
    "df = pd.read_csv(\n",
    "    \"2018_Central_Park_Squirrel_Census_-_Squirrel_Data.csv\")"
   ]
  },
  {
   "cell_type": "code",
   "execution_count": 2,
   "id": "3c63e366",
   "metadata": {},
   "outputs": [],
   "source": [
    "fur_colors = {\"Fur\": [], \"Color\": [], \"Count\": []}"
   ]
  },
  {
   "cell_type": "code",
   "execution_count": 3,
   "id": "6ba1232a",
   "metadata": {},
   "outputs": [],
   "source": [
    "for i in df[\"Primary Fur Color\"]:\n",
    "    if i not in fur_colors[\"Color\"]:\n",
    "        fur_colors[\"Color\"].append(i)\n",
    "        fur_colors[\"Count\"].append(0)\n",
    "        fur_colors[\"Fur\"].append(len(fur_colors[\"Fur\"]))\n",
    "    fur_colors[\"Count\"][fur_colors[\"Color\"].index(i)] += 1"
   ]
  },
  {
   "cell_type": "code",
   "execution_count": 4,
   "id": "a30a86ff",
   "metadata": {},
   "outputs": [
    {
     "name": "stdout",
     "output_type": "stream",
     "text": [
      "{'Fur': [0, 1, 2, 3], 'Color': [nan, 'Gray', 'Cinnamon', 'Black'], 'Count': [55, 2473, 392, 103]}\n"
     ]
    }
   ],
   "source": [
    "print(fur_colors)"
   ]
  },
  {
   "cell_type": "code",
   "execution_count": 8,
   "id": "85f5542f",
   "metadata": {},
   "outputs": [],
   "source": [
    "pd.DataFrame(fur_colors).to_csv(\"extracted_data.csv\")"
   ]
  },
  {
   "cell_type": "code",
   "execution_count": 26,
   "id": "2e42ee77",
   "metadata": {},
   "outputs": [
    {
     "name": "stdout",
     "output_type": "stream",
     "text": [
      "      Color  Count\n",
      "0      Gray   2473\n",
      "1  Cinnamon    392\n",
      "2     Black    103\n"
     ]
    }
   ],
   "source": [
    "import pandas as pd\n",
    "\n",
    "\n",
    "df = pd.read_csv(\n",
    "    \"2018_Central_Park_Squirrel_Census_-_Squirrel_Data.csv\")\n",
    "\n",
    "fur_color_counts = df[\"Primary Fur Color\"].value_counts().reset_index()\n",
    "\n",
    "fur_color_counts.columns = [\"Color\", \"Count\"]\n",
    "\n",
    "print(fur_color_counts)"
   ]
  },
  {
   "cell_type": "code",
   "execution_count": 41,
   "id": "d98d51e1",
   "metadata": {
    "scrolled": true
   },
   "outputs": [
    {
     "data": {
      "image/png": "[encoded data removed]",
      "text/plain": [
       "<Figure size 432x288 with 1 Axes>"
      ]
     },
     "metadata": {},
     "output_type": "display_data"
    }
   ],
   "source": [
    "import matplotlib.pyplot as plt\n",
    "\n",
    "y = fur_color_counts[\"Count\"]\n",
    "labels = fur_color_counts[\"Color\"]\n",
    "colors = [\"Gray\",\"Orange\",\"Black\"] \n",
    "\n",
    "plt.pie(y,labels=labels,startangle=90,colors=colors,shadow=True)\n",
    "plt.show()"
   ]
  },
  {
   "cell_type": "code",
   "execution_count": 66,
   "id": "93c1bc19",
   "metadata": {},
   "outputs": [
    {
     "data": {
      "image/png": "[encoded data removed]",
      "text/plain": [
       "<Figure size 432x288 with 1 Axes>"
      ]
     },
     "metadata": {
      "needs_background": "light"
     },
     "output_type": "display_data"
    }
   ],
   "source": [
    "import matplotlib.pyplot as plt\n",
    "\n",
    "y = fur_color_counts[\"Count\"]\n",
    "labels = fur_color_counts[\"Color\"]\n",
    "colors = [\"Gray\",\"Orange\",\"Black\"] \n",
    "\n",
    "plt.bar(labels,y,width=0.5,)\n",
    "plt.ylim(-min(y),max(y)+min(y))\n",
    "plt.show()"
   ]
  }
 ],
 "metadata": {
  "kernelspec": {
   "display_name": "Python 3 (ipykernel)",
   "language": "python",
   "name": "python3"
  },
  "language_info": {
   "codemirror_mode": {
    "name": "ipython",
    "version": 3
   },
   "file_extension": ".py",
   "mimetype": "text/x-python",
   "name": "python",
   "nbconvert_exporter": "python",
   "pygments_lexer": "ipython3",
   "version": "3.9.12"
  }
 },
 "nbformat": 4,
 "nbformat_minor": 5
}
