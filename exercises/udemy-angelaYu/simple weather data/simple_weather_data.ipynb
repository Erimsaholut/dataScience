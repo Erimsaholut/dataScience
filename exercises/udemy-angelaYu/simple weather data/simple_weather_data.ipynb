{
 "cells": [
  {
   "cell_type": "code",
   "execution_count": 15,
   "id": "82c569db",
   "metadata": {},
   "outputs": [
    {
     "name": "stdout",
     "output_type": "stream",
     "text": [
      "{'day': {0: 'Monday', 1: 'Tuesday', 2: 'Wednesday', 3: 'Thursday', 4: 'Friday', 5: 'Saturday', 6: 'Sunday'}, 'temp': {0: 12, 1: 14, 2: 15, 3: 14, 4: 21, 5: 22, 6: 24}, 'condition': {0: 'Sunny', 1: 'Rain', 2: 'Rain', 3: 'Cloudy', 4: 'Sunny', 5: 'Sunny', 6: 'Sunny'}}\n"
     ]
    }
   ],
   "source": [
    "import numpy as np\n",
    "import pandas as pd\n",
    "\n",
    "df = pd.read_csv(\"weather_data.csv\")\n",
    "\n",
    "df_dict = df.to_dict()\n",
    "print(df_dict)"
   ]
  },
  {
   "cell_type": "markdown",
   "id": "ea424531",
   "metadata": {},
   "source": [
    "##### You can turn your data into the dict directly"
   ]
  },
  {
   "cell_type": "code",
   "execution_count": 16,
   "id": "20a68170",
   "metadata": {
    "scrolled": true
   },
   "outputs": [
    {
     "name": "stdout",
     "output_type": "stream",
     "text": [
      "{'day': {0: 'Monday', 1: 'Tuesday', 2: 'Wednesday', 3: 'Thursday', 4: 'Friday', 5: 'Saturday', 6: 'Sunday'}, 'temp': {0: 12, 1: 14, 2: 15, 3: 14, 4: 21, 5: 22, 6: 24}, 'condition': {0: 'Sunny', 1: 'Rain', 2: 'Rain', 3: 'Cloudy', 4: 'Sunny', 5: 'Sunny', 6: 'Sunny'}}\n"
     ]
    }
   ],
   "source": [
    "df_dict = df.to_dict()\n",
    "print(df_dict)"
   ]
  },
  {
   "cell_type": "markdown",
   "id": "630833f5",
   "metadata": {},
   "source": [
    "##### Or series to the lists"
   ]
  },
  {
   "cell_type": "code",
   "execution_count": 21,
   "id": "b24be126",
   "metadata": {},
   "outputs": [
    {
     "data": {
      "text/plain": [
       "['Monday', 'Tuesday', 'Wednesday', 'Thursday', 'Friday', 'Saturday', 'Sunday']"
      ]
     },
     "execution_count": 21,
     "metadata": {},
     "output_type": "execute_result"
    }
   ],
   "source": [
    "df[\"day\"] #pandas.core.series.Series\n",
    "df_list = df[\"day\"].to_list()\n",
    "df_list"
   ]
  },
  {
   "cell_type": "code",
   "execution_count": 32,
   "id": "1a7facc3",
   "metadata": {},
   "outputs": [
    {
     "name": "stdout",
     "output_type": "stream",
     "text": [
      "17.428571428571427\n",
      "17.428571428571427\n",
      "24\n"
     ]
    }
   ],
   "source": [
    "print(sum(df[\"temp\"]/len(df[\"temp\"])))\n",
    "\n",
    "# or just \n",
    "\n",
    "print(df[\"temp\"].mean())\n",
    "print(df[\"temp\"].max())"
   ]
  },
  {
   "cell_type": "code",
   "execution_count": 35,
   "id": "7c3c24bc",
   "metadata": {},
   "outputs": [
    {
     "name": "stdout",
     "output_type": "stream",
     "text": [
      "0     Sunny\n",
      "1      Rain\n",
      "2      Rain\n",
      "3    Cloudy\n",
      "4     Sunny\n",
      "5     Sunny\n",
      "6     Sunny\n",
      "Name: condition, dtype: object\n",
      "0     Sunny\n",
      "1      Rain\n",
      "2      Rain\n",
      "3    Cloudy\n",
      "4     Sunny\n",
      "5     Sunny\n",
      "6     Sunny\n",
      "Name: condition, dtype: object\n",
      "0       Monday\n",
      "1      Tuesday\n",
      "2    Wednesday\n",
      "3     Thursday\n",
      "4       Friday\n",
      "5     Saturday\n",
      "6       Sunday\n",
      "Name: day, dtype: object\n"
     ]
    }
   ],
   "source": [
    "print(df[\"condition\"])\n",
    "\n",
    "# or just\n",
    "\n",
    "print(df.condition)\n",
    "\n",
    "print(df.day)"
   ]
  },
  {
   "cell_type": "code",
   "execution_count": 39,
   "id": "b0787698",
   "metadata": {},
   "outputs": [
    {
     "name": "stdout",
     "output_type": "stream",
     "text": [
      "0    12\n",
      "1    14\n",
      "2    15\n",
      "3    14\n",
      "4    21\n",
      "5    22\n",
      "6    24\n",
      "Name: temp, dtype: int64\n"
     ]
    }
   ],
   "source": [
    "print(df.temp)"
   ]
  },
  {
   "cell_type": "code",
   "execution_count": 43,
   "id": "3f645934",
   "metadata": {},
   "outputs": [
    {
     "data": {
      "text/html": [
       "<div>\n",
       "<style scoped>\n",
       "    .dataframe tbody tr th:only-of-type {\n",
       "        vertical-align: middle;\n",
       "    }\n",
       "\n",
       "    .dataframe tbody tr th {\n",
       "        vertical-align: top;\n",
       "    }\n",
       "\n",
       "    .dataframe thead th {\n",
       "        text-align: right;\n",
       "    }\n",
       "</style>\n",
       "<table border=\"1\" class=\"dataframe\">\n",
       "  <thead>\n",
       "    <tr style=\"text-align: right;\">\n",
       "      <th></th>\n",
       "      <th>day</th>\n",
       "      <th>temp</th>\n",
       "      <th>condition</th>\n",
       "    </tr>\n",
       "  </thead>\n",
       "  <tbody>\n",
       "    <tr>\n",
       "      <th>6</th>\n",
       "      <td>Sunday</td>\n",
       "      <td>24</td>\n",
       "      <td>Sunny</td>\n",
       "    </tr>\n",
       "  </tbody>\n",
       "</table>\n",
       "</div>"
      ],
      "text/plain": [
       "      day  temp condition\n",
       "6  Sunday    24     Sunny"
      ]
     },
     "execution_count": 43,
     "metadata": {},
     "output_type": "execute_result"
    }
   ],
   "source": [
    "df[df.temp == df.temp.max()]"
   ]
  },
  {
   "cell_type": "code",
   "execution_count": 47,
   "id": "6055696b",
   "metadata": {},
   "outputs": [],
   "source": [
    "monday = df[df.day == \"Monday\"]"
   ]
  },
  {
   "cell_type": "code",
   "execution_count": 57,
   "id": "9cbbadd5",
   "metadata": {},
   "outputs": [
    {
     "data": {
      "text/plain": [
       "0    263.264\n",
       "Name: temp, dtype: float64"
      ]
     },
     "execution_count": 57,
     "metadata": {},
     "output_type": "execute_result"
    }
   ],
   "source": [
    "fahrenheit = (monday[\"temp\"]*1.8)+32\n",
    "fahrenheit"
   ]
  }
 ],
 "metadata": {
  "kernelspec": {
   "display_name": "Python 3 (ipykernel)",
   "language": "python",
   "name": "python3"
  },
  "language_info": {
   "codemirror_mode": {
    "name": "ipython",
    "version": 3
   },
   "file_extension": ".py",
   "mimetype": "text/x-python",
   "name": "python",
   "nbconvert_exporter": "python",
   "pygments_lexer": "ipython3",
   "version": "3.9.12"
  }
 },
 "nbformat": 4,
 "nbformat_minor": 5
}
